{
 "cells": [
  {
   "cell_type": "code",
   "execution_count": 87,
   "metadata": {},
   "outputs": [],
   "source": [
    "import numpy as np\n",
    "import pandas as pd\n",
    "import pydicom as dicom\n",
    "import cv2\n",
    "import os"
   ]
  },
  {
   "cell_type": "code",
   "execution_count": 84,
   "metadata": {},
   "outputs": [],
   "source": [
    "# path to covid-19 dataset from https://github.com/ieee8023/covid-chestxray-dataset\n",
    "imgpath = 'data/cohen/images'\n",
    "csvpath = 'data/cohen/metadata.csv'\n",
    "\n",
    "# path to RSNA data\n",
    "rsna_img = \"data/rsna/images\"\n",
    "# get normal cases\n",
    "rsna_csv = \"data/rsna/stage_2_detailed_class_info.csv\"\n",
    "# to get pneumonia data\n",
    "rsna_csv2 = \"data/rsna/stage_2_train_labels.csv\"\n",
    "\n",
    "# categorize the disiases\n",
    "mapping = dict()\n",
    "mapping['COVID-19'] = 'COVID-19'\n",
    "mapping['SARS'] = 'pneumonia'\n",
    "mapping['MERS'] = 'pneumonia'\n",
    "mapping['Streptococcus'] = 'pneumonia'\n",
    "mapping['Klebsiella'] = 'pneumonia'\n",
    "mapping['Chlamydophila'] = 'pneumonia'\n",
    "mapping['Legionella'] = 'pneumonia'\n",
    "mapping['Normal'] = 'normal'\n",
    "mapping['Lung Opacity'] = 'pneumonia'\n",
    "mapping['1'] = 'pneumonia'"
   ]
  },
  {
   "cell_type": "code",
   "execution_count": 57,
   "metadata": {},
   "outputs": [],
   "source": [
    "metadata = pd.read_csv(csvpath)\n",
    "views = [\"PA\", \"AP\", \"AP Supine\", \"AP semi erect\", \"AP erect\"]\n",
    "metadata = metadata[metadata.view.isin(views)]"
   ]
  },
  {
   "cell_type": "code",
   "execution_count": 70,
   "metadata": {},
   "outputs": [
    {
     "name": "stdout",
     "output_type": "stream",
     "text": [
      "Data distribution from covid-chestxray-dataset:\n",
      "{'normal': 0, 'pneumonia': 33, 'COVID-19': 218}\n"
     ]
    }
   ],
   "source": [
    "patients1 = {'normal': [], 'pneumonia': [], 'COVID-19': []}\n",
    "count = {'normal': 0, 'pneumonia': 0, 'COVID-19': 0}\n",
    "for index, row in metadata.iterrows():\n",
    "    f = row['finding'].split(',')[0] # take the first finding, for the case of COVID-19, ARDS\n",
    "    if f in mapping: # \n",
    "        count[mapping[f]] += 1\n",
    "        #entry = [str(row['patientid']), row['filename'], mapping[f], row['view']]\n",
    "        patients1[mapping[f]].append(row['filename'])\n",
    "\n",
    "print('Data distribution from covid-chestxray-dataset:')\n",
    "print(count)"
   ]
  },
  {
   "cell_type": "code",
   "execution_count": 69,
   "metadata": {},
   "outputs": [],
   "source": [
    "csv_normal = pd.read_csv(rsna_csv, nrows=None)\n",
    "csv_pneu = pd.read_csv(rsna_csv2, nrows=None)\n",
    "patients2 = {'normal': [], 'pneumonia': []}\n",
    "\n",
    "\n",
    "for index, row in csv_normal.iterrows():\n",
    "    if row['class'] == 'Normal':\n",
    "        patients2['normal'].append(row['patientId'])\n",
    "        \n",
    "for index, row in csv_pneu.iterrows():\n",
    "    if int(row['Target']) == 1:\n",
    "        patients2['pneumonia'].append(row['patientId'])"
   ]
  },
  {
   "cell_type": "code",
   "execution_count": 106,
   "metadata": {},
   "outputs": [
    {
     "name": "stdout",
     "output_type": "stream",
     "text": [
      "Directory  dataset  Created \n"
     ]
    }
   ],
   "source": [
    "try:\n",
    "    os.mkdir('dataset')\n",
    "    path_ds = os.path.abspath('dataset')\n",
    "    os.mkdir(path_ds + '/COVID-19')\n",
    "    os.mkdir(path_ds + '/normal')\n",
    "    os.mkdir(path_ds + '/pneumonia')\n",
    "    print(\"Directory \" , dirName ,  \" Created \") \n",
    "except FileExistsError:\n",
    "    print(\"Directory \" , dirName ,  \" already exists\")"
   ]
  },
  {
   "cell_type": "code",
   "execution_count": 101,
   "metadata": {},
   "outputs": [
    {
     "data": {
      "text/plain": [
       "'/home/calvus/Projects/Diploma/COVID-19_X-RAY_Detection/dataset'"
      ]
     },
     "execution_count": 101,
     "metadata": {},
     "output_type": "execute_result"
    }
   ],
   "source": [
    "os.path.abspath('dataset/')"
   ]
  }
 ],
 "metadata": {
  "kernelspec": {
   "display_name": "Python 3",
   "language": "python",
   "name": "python3"
  },
  "language_info": {
   "codemirror_mode": {
    "name": "ipython",
    "version": 3
   },
   "file_extension": ".py",
   "mimetype": "text/x-python",
   "name": "python",
   "nbconvert_exporter": "python",
   "pygments_lexer": "ipython3",
   "version": "3.7.5"
  }
 },
 "nbformat": 4,
 "nbformat_minor": 4
}
