{
 "cells": [
  {
   "cell_type": "code",
   "execution_count": 1,
   "metadata": {},
   "outputs": [],
   "source": [
    "import numpy as np\n",
    "import pandas as pd\n",
    "import pydicom as dicom\n",
    "import cv2\n",
    "import os\n",
    "import matplotlib.pyplot as plt\n",
    "import random\n",
    "%matplotlib inline "
   ]
  },
  {
   "cell_type": "code",
   "execution_count": 2,
   "metadata": {},
   "outputs": [],
   "source": [
    "# path to covid-19 dataset from https://github.com/ieee8023/covid-chestxray-dataset\n",
    "imgpath = 'data/cohen/images'\n",
    "csvpath = 'data/cohen/metadata.csv'\n",
    "\n",
    "# path to RSNA data\n",
    "rsna_img = \"data/rsna/images\"\n",
    "# get normal cases\n",
    "rsna_csv = \"data/rsna/stage_2_detailed_class_info.csv\"\n",
    "# to get pneumonia data\n",
    "rsna_csv2 = \"data/rsna/stage_2_train_labels.csv\"\n",
    "\n",
    "# categorize the disiases\n",
    "mapping = dict()\n",
    "mapping['COVID-19'] = 'COVID-19'\n",
    "mapping['SARS'] = 'pneumonia'\n",
    "mapping['MERS'] = 'pneumonia'\n",
    "mapping['Streptococcus'] = 'pneumonia'\n",
    "mapping['Klebsiella'] = 'pneumonia'\n",
    "mapping['Chlamydophila'] = 'pneumonia'\n",
    "mapping['Legionella'] = 'pneumonia'\n",
    "mapping['Normal'] = 'normal'\n",
    "mapping['Lung Opacity'] = 'pneumonia'\n",
    "mapping['1'] = 'pneumonia'"
   ]
  },
  {
   "cell_type": "code",
   "execution_count": 3,
   "metadata": {},
   "outputs": [],
   "source": [
    "metadata = pd.read_csv(csvpath)\n",
    "views = [\"PA\", \"AP\", \"AP Supine\", \"AP semi erect\", \"AP erect\"]\n",
    "metadata = metadata[metadata.view.isin(views)]"
   ]
  },
  {
   "cell_type": "code",
   "execution_count": 4,
   "metadata": {},
   "outputs": [],
   "source": [
    "patients1 = {'normal': [], 'pneumonia': [], 'COVID-19': []}\n",
    "count = {'normal': 0, 'pneumonia': 0, 'COVID-19': 0}\n",
    "for index, row in metadata.iterrows():\n",
    "    f = row['finding'].split(',')[0] # take the first finding, for the case of COVID-19, ARDS\n",
    "    if f in mapping: # \n",
    "        count[mapping[f]] += 1\n",
    "        patients1[mapping[f]].append(row['filename'])"
   ]
  },
  {
   "cell_type": "code",
   "execution_count": 5,
   "metadata": {},
   "outputs": [],
   "source": [
    "csv_normal = pd.read_csv(rsna_csv, nrows=None)\n",
    "csv_pneu = pd.read_csv(rsna_csv2, nrows=None)\n",
    "patients2 = {'normal': [], 'pneumonia': []}\n",
    "\n",
    "\n",
    "for index, row in csv_normal.iterrows():\n",
    "    if row['class'] == 'Normal':\n",
    "        patients2['normal'].append(row['patientId'])\n",
    "        \n",
    "for index, row in csv_pneu.iterrows():\n",
    "    if int(row['Target']) == 1:\n",
    "        patients2['pneumonia'].append(row['patientId'])"
   ]
  },
  {
   "cell_type": "code",
   "execution_count": 6,
   "metadata": {},
   "outputs": [],
   "source": [
    "# creating a few directories to contain a normalized dataset \n",
    "try:\n",
    "    os.mkdir('dataset')\n",
    "    os.mkdir('dataset/train')\n",
    "    os.mkdir('dataset/test')\n",
    "    path_train = os.path.abspath('dataset/train')\n",
    "    os.mkdir(path_train + '/COVID-19')\n",
    "    os.mkdir(path_train + '/normal')\n",
    "    os.mkdir(path_train + '/pneumonia')\n",
    "    path_test = os.path.abspath('dataset/test')\n",
    "    os.mkdir(path_test + '/COVID-19')\n",
    "    os.mkdir(path_test + '/normal')\n",
    "    os.mkdir(path_test + '/pneumonia')\n",
    "except FileExistsError:\n",
    "    print(\"Directory already exists\")"
   ]
  },
  {
   "cell_type": "code",
   "execution_count": 7,
   "metadata": {},
   "outputs": [],
   "source": [
    "def gen_test_dict(patients: dict, test_split=0.3):\n",
    "    train, test = dict(), dict()\n",
    "    for key in patients.keys():\n",
    "        test[key] = random.sample(patients[key], int(test_split*len(patients[key])))\n",
    "        train[key] = list(set(patients[key]) - set(test[key]))\n",
    "    return train, test"
   ]
  },
  {
   "cell_type": "code",
   "execution_count": 8,
   "metadata": {},
   "outputs": [],
   "source": [
    "train1, test1 = gen_test_dict(patients1)\n",
    "train2, test2 = gen_test_dict(patients2)"
   ]
  },
  {
   "cell_type": "code",
   "execution_count": 9,
   "metadata": {},
   "outputs": [],
   "source": [
    "# saving data from the first dataset to form general dataset\n",
    "def save_jpg(save_path, patients1):\n",
    "    work_path = os.path.abspath(os.getcwd())\n",
    "    path = os.path.abspath('data/cohen/images')\n",
    "    \n",
    "    for key in patients1.keys():\n",
    "        save = os.path.join(save_path, key)\n",
    "        os.chdir(save)\n",
    "        for img in patients1[key]:\n",
    "            try:\n",
    "                image = cv2.imread(os.path.join(path, img))\n",
    "                image = cv2.cvtColor(image, cv2.COLOR_BGR2RGB)\n",
    "                cv2.imwrite(img, image)\n",
    "            except:\n",
    "                continue\n",
    "\n",
    "    os.chdir(work_path)\n"
   ]
  },
  {
   "cell_type": "code",
   "execution_count": 10,
   "metadata": {},
   "outputs": [],
   "source": [
    "# save process, but for data from the second dataset\n",
    "def save_dcm(save_path, patients2):\n",
    "    work_path = os.path.abspath(os.getcwd())\n",
    "    path = os.path.abspath('data/rsna/images')\n",
    "\n",
    "    for key in patients2.keys():\n",
    "        save = os.path.join(save_path, key)\n",
    "        os.chdir(save)\n",
    "        for img in patients2[key]:\n",
    "            try:\n",
    "                read_img = img + '.dcm'\n",
    "                image = dicom.dcmread(os.path.join(path, read_img))\n",
    "                image = image.pixel_array\n",
    "                image = cv2.cvtColor(image, cv2.COLOR_BGR2RGB)\n",
    "                save_img = img + '.jpg'\n",
    "                cv2.imwrite(save_img, image)\n",
    "            except:\n",
    "                continue\n",
    "\n",
    "    os.chdir(work_path)"
   ]
  },
  {
   "cell_type": "code",
   "execution_count": 11,
   "metadata": {},
   "outputs": [],
   "source": [
    "save_path = os.path.abspath('dataset')\n",
    "\n",
    "train_path = os.path.join(save_path, 'train')\n",
    "test_path = os.path.join(save_path, 'test')\n",
    "\n",
    "save_jpg(train_path, train1)\n",
    "save_jpg(test_path, test1)\n",
    "\n",
    "save_dcm(train_path, train2)\n",
    "save_dcm(test_path, test2)"
   ]
  },
  {
   "cell_type": "code",
   "execution_count": null,
   "metadata": {},
   "outputs": [],
   "source": []
  }
 ],
 "metadata": {
  "kernelspec": {
   "display_name": "Python 3",
   "language": "python",
   "name": "python3"
  },
  "language_info": {
   "codemirror_mode": {
    "name": "ipython",
    "version": 3
   },
   "file_extension": ".py",
   "mimetype": "text/x-python",
   "name": "python",
   "nbconvert_exporter": "python",
   "pygments_lexer": "ipython3",
   "version": "3.7.5"
  }
 },
 "nbformat": 4,
 "nbformat_minor": 4
}
