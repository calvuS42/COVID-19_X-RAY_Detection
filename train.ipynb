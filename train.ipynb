{
 "cells": [
  {
   "cell_type": "code",
   "execution_count": 1,
   "metadata": {},
   "outputs": [
    {
     "name": "stderr",
     "output_type": "stream",
     "text": [
      "Using TensorFlow backend.\n",
      "/home/calvus/.local/lib/python3.7/site-packages/tensorflow/python/framework/dtypes.py:516: FutureWarning: Passing (type, 1) or '1type' as a synonym of type is deprecated; in a future version of numpy, it will be understood as (type, (1,)) / '(1,)type'.\n",
      "  _np_qint8 = np.dtype([(\"qint8\", np.int8, 1)])\n",
      "/home/calvus/.local/lib/python3.7/site-packages/tensorflow/python/framework/dtypes.py:517: FutureWarning: Passing (type, 1) or '1type' as a synonym of type is deprecated; in a future version of numpy, it will be understood as (type, (1,)) / '(1,)type'.\n",
      "  _np_quint8 = np.dtype([(\"quint8\", np.uint8, 1)])\n",
      "/home/calvus/.local/lib/python3.7/site-packages/tensorflow/python/framework/dtypes.py:518: FutureWarning: Passing (type, 1) or '1type' as a synonym of type is deprecated; in a future version of numpy, it will be understood as (type, (1,)) / '(1,)type'.\n",
      "  _np_qint16 = np.dtype([(\"qint16\", np.int16, 1)])\n",
      "/home/calvus/.local/lib/python3.7/site-packages/tensorflow/python/framework/dtypes.py:519: FutureWarning: Passing (type, 1) or '1type' as a synonym of type is deprecated; in a future version of numpy, it will be understood as (type, (1,)) / '(1,)type'.\n",
      "  _np_quint16 = np.dtype([(\"quint16\", np.uint16, 1)])\n",
      "/home/calvus/.local/lib/python3.7/site-packages/tensorflow/python/framework/dtypes.py:520: FutureWarning: Passing (type, 1) or '1type' as a synonym of type is deprecated; in a future version of numpy, it will be understood as (type, (1,)) / '(1,)type'.\n",
      "  _np_qint32 = np.dtype([(\"qint32\", np.int32, 1)])\n",
      "/home/calvus/.local/lib/python3.7/site-packages/tensorflow/python/framework/dtypes.py:525: FutureWarning: Passing (type, 1) or '1type' as a synonym of type is deprecated; in a future version of numpy, it will be understood as (type, (1,)) / '(1,)type'.\n",
      "  np_resource = np.dtype([(\"resource\", np.ubyte, 1)])\n",
      "/home/calvus/.local/lib/python3.7/site-packages/tensorboard/compat/tensorflow_stub/dtypes.py:541: FutureWarning: Passing (type, 1) or '1type' as a synonym of type is deprecated; in a future version of numpy, it will be understood as (type, (1,)) / '(1,)type'.\n",
      "  _np_qint8 = np.dtype([(\"qint8\", np.int8, 1)])\n",
      "/home/calvus/.local/lib/python3.7/site-packages/tensorboard/compat/tensorflow_stub/dtypes.py:542: FutureWarning: Passing (type, 1) or '1type' as a synonym of type is deprecated; in a future version of numpy, it will be understood as (type, (1,)) / '(1,)type'.\n",
      "  _np_quint8 = np.dtype([(\"quint8\", np.uint8, 1)])\n",
      "/home/calvus/.local/lib/python3.7/site-packages/tensorboard/compat/tensorflow_stub/dtypes.py:543: FutureWarning: Passing (type, 1) or '1type' as a synonym of type is deprecated; in a future version of numpy, it will be understood as (type, (1,)) / '(1,)type'.\n",
      "  _np_qint16 = np.dtype([(\"qint16\", np.int16, 1)])\n",
      "/home/calvus/.local/lib/python3.7/site-packages/tensorboard/compat/tensorflow_stub/dtypes.py:544: FutureWarning: Passing (type, 1) or '1type' as a synonym of type is deprecated; in a future version of numpy, it will be understood as (type, (1,)) / '(1,)type'.\n",
      "  _np_quint16 = np.dtype([(\"quint16\", np.uint16, 1)])\n",
      "/home/calvus/.local/lib/python3.7/site-packages/tensorboard/compat/tensorflow_stub/dtypes.py:545: FutureWarning: Passing (type, 1) or '1type' as a synonym of type is deprecated; in a future version of numpy, it will be understood as (type, (1,)) / '(1,)type'.\n",
      "  _np_qint32 = np.dtype([(\"qint32\", np.int32, 1)])\n",
      "/home/calvus/.local/lib/python3.7/site-packages/tensorboard/compat/tensorflow_stub/dtypes.py:550: FutureWarning: Passing (type, 1) or '1type' as a synonym of type is deprecated; in a future version of numpy, it will be understood as (type, (1,)) / '(1,)type'.\n",
      "  np_resource = np.dtype([(\"resource\", np.ubyte, 1)])\n"
     ]
    }
   ],
   "source": [
    "import numpy as np\n",
    "import matplotlib.pyplot as plt\n",
    "import cv2\n",
    "from keras.preprocessing.image import ImageDataGenerator\n",
    "from keras.models import Sequential\n",
    "from keras.layers import Activation, Dropout, Conv2D, MaxPooling2D, Flatten, Dense\n",
    "%matplotlib inline "
   ]
  },
  {
   "cell_type": "code",
   "execution_count": 2,
   "metadata": {},
   "outputs": [],
   "source": [
    "input_shape = (250, 250, 3)\n",
    "batch = 8\n",
    "lr = 0.002"
   ]
  },
  {
   "cell_type": "code",
   "execution_count": 3,
   "metadata": {},
   "outputs": [],
   "source": [
    "img_gen = ImageDataGenerator(rotation_range=15,\n",
    "                            width_shift_range=0.1,\n",
    "                            height_shift_range=0.1,\n",
    "                            rescale=1/255,\n",
    "                            fill_mode='nearest')"
   ]
  },
  {
   "cell_type": "code",
   "execution_count": 4,
   "metadata": {},
   "outputs": [
    {
     "name": "stdout",
     "output_type": "stream",
     "text": [
      "Found 9867 images belonging to 3 classes.\n",
      "Found 5247 images belonging to 3 classes.\n"
     ]
    }
   ],
   "source": [
    "train_gen = img_gen.flow_from_directory('dataset/train',\n",
    "                                   target_size=input_shape[:2],\n",
    "                                   batch_size=batch,\n",
    "                                   class_mode='categorical',\n",
    "                                   shuffle=True,\n",
    "                                   seed=42)\n",
    "test_gen = img_gen.flow_from_directory('dataset/test',\n",
    "                                        target_size=input_shape[:2],\n",
    "                                        batch_size=batch,\n",
    "                                        class_mode='categorical',\n",
    "                                        shuffle=True,\n",
    "                                        seed=42)"
   ]
  },
  {
   "cell_type": "code",
   "execution_count": 5,
   "metadata": {},
   "outputs": [
    {
     "data": {
      "text/plain": [
       "{'COVID-19': 0, 'normal': 1, 'pneumonia': 2}"
      ]
     },
     "execution_count": 5,
     "metadata": {},
     "output_type": "execute_result"
    }
   ],
   "source": [
    "train_gen.class_indices"
   ]
  },
  {
   "cell_type": "code",
   "execution_count": 6,
   "metadata": {},
   "outputs": [
    {
     "data": {
      "text/plain": [
       "{'COVID-19': 0, 'normal': 1, 'pneumonia': 2}"
      ]
     },
     "execution_count": 6,
     "metadata": {},
     "output_type": "execute_result"
    }
   ],
   "source": [
    "test_gen.class_indices"
   ]
  },
  {
   "cell_type": "code",
   "execution_count": 13,
   "metadata": {},
   "outputs": [],
   "source": [
    "model = Sequential()\n",
    "\n",
    "model.add(Conv2D(filters=32,kernel_size=(3,3), input_shape=input_shape, activation='relu'))\n",
    "model.add(MaxPooling2D(pool_size=(2,2)))\n",
    "\n",
    "#model.add(Conv2D(filters=64,kernel_size=(2,2), input_shape=input_shape, activation='relu'))\n",
    "#model.add(MaxPooling2D(pool_size=(2,2)))\n",
    "\n",
    "model.add(Conv2D(filters=64,kernel_size=(3,3), input_shape=input_shape, activation='relu'))\n",
    "model.add(MaxPooling2D(pool_size=(3,3)))\n",
    "\n",
    "model.add(Conv2D(filters=64,kernel_size=(3,3), input_shape=input_shape, activation='relu'))\n",
    "model.add(MaxPooling2D(pool_size=(2,2)))\n",
    "\n",
    "model.add(Conv2D(filters=64,kernel_size=(4,4), input_shape=input_shape, activation='relu'))\n",
    "model.add(MaxPooling2D(pool_size=(2,2)))\n",
    "\n",
    "model.add(Flatten())\n",
    "\n",
    "model.add(Dense(256))\n",
    "model.add(Activation('relu'))\n",
    "\n",
    "model.add(Dense(256))\n",
    "model.add(Activation('sigmoid'))\n",
    "\n",
    "model.add(Dropout(0.5))\n",
    "\n",
    "model.add(Dense(3))\n",
    "model.add(Activation('softmax'))\n",
    "\n",
    "model.compile(loss='mean_squared_error',\n",
    "              optimizer='adam',\n",
    "              metrics=['mae', 'acc'])"
   ]
  },
  {
   "cell_type": "code",
   "execution_count": 14,
   "metadata": {},
   "outputs": [
    {
     "name": "stdout",
     "output_type": "stream",
     "text": [
      "Model: \"sequential_5\"\n",
      "_________________________________________________________________\n",
      "Layer (type)                 Output Shape              Param #   \n",
      "=================================================================\n",
      "conv2d_20 (Conv2D)           (None, 248, 248, 32)      896       \n",
      "_________________________________________________________________\n",
      "max_pooling2d_19 (MaxPooling (None, 124, 124, 32)      0         \n",
      "_________________________________________________________________\n",
      "conv2d_21 (Conv2D)           (None, 122, 122, 64)      18496     \n",
      "_________________________________________________________________\n",
      "max_pooling2d_20 (MaxPooling (None, 40, 40, 64)        0         \n",
      "_________________________________________________________________\n",
      "conv2d_22 (Conv2D)           (None, 38, 38, 64)        36928     \n",
      "_________________________________________________________________\n",
      "max_pooling2d_21 (MaxPooling (None, 19, 19, 64)        0         \n",
      "_________________________________________________________________\n",
      "conv2d_23 (Conv2D)           (None, 16, 16, 64)        65600     \n",
      "_________________________________________________________________\n",
      "max_pooling2d_22 (MaxPooling (None, 8, 8, 64)          0         \n",
      "_________________________________________________________________\n",
      "flatten_4 (Flatten)          (None, 4096)              0         \n",
      "_________________________________________________________________\n",
      "dense_10 (Dense)             (None, 256)               1048832   \n",
      "_________________________________________________________________\n",
      "activation_10 (Activation)   (None, 256)               0         \n",
      "_________________________________________________________________\n",
      "dense_11 (Dense)             (None, 256)               65792     \n",
      "_________________________________________________________________\n",
      "activation_11 (Activation)   (None, 256)               0         \n",
      "_________________________________________________________________\n",
      "dropout_4 (Dropout)          (None, 256)               0         \n",
      "_________________________________________________________________\n",
      "dense_12 (Dense)             (None, 3)                 771       \n",
      "_________________________________________________________________\n",
      "activation_12 (Activation)   (None, 3)                 0         \n",
      "=================================================================\n",
      "Total params: 1,237,315\n",
      "Trainable params: 1,237,315\n",
      "Non-trainable params: 0\n",
      "_________________________________________________________________\n"
     ]
    }
   ],
   "source": [
    "model.summary()"
   ]
  },
  {
   "cell_type": "code",
   "execution_count": 15,
   "metadata": {},
   "outputs": [
    {
     "name": "stdout",
     "output_type": "stream",
     "text": [
      "Epoch 1/50\n",
      "150/150 [==============================] - 70s 468ms/step - loss: 0.1865 - mae: 0.3151 - acc: 0.5849 - val_loss: 0.1596 - val_mae: 0.3152 - val_acc: 0.6125\n",
      "Epoch 2/50\n",
      "150/150 [==============================] - 69s 461ms/step - loss: 0.1644 - mae: 0.2851 - acc: 0.6467 - val_loss: 0.0882 - val_mae: 0.2717 - val_acc: 0.5625\n",
      "Epoch 3/50\n",
      "150/150 [==============================] - 69s 460ms/step - loss: 0.1046 - mae: 0.1876 - acc: 0.7867 - val_loss: 0.0389 - val_mae: 0.1578 - val_acc: 0.8250\n",
      "Epoch 4/50\n",
      "150/150 [==============================] - 73s 486ms/step - loss: 0.1076 - mae: 0.1948 - acc: 0.7775 - val_loss: 0.1343 - val_mae: 0.1702 - val_acc: 0.8125\n",
      "Epoch 5/50\n",
      "150/150 [==============================] - 76s 510ms/step - loss: 0.0906 - mae: 0.1680 - acc: 0.8133 - val_loss: 0.0121 - val_mae: 0.1672 - val_acc: 0.8250\n",
      "Epoch 6/50\n",
      "150/150 [==============================] - 69s 460ms/step - loss: 0.1031 - mae: 0.1891 - acc: 0.7958 - val_loss: 0.0921 - val_mae: 0.1775 - val_acc: 0.8250\n",
      "Epoch 7/50\n",
      "150/150 [==============================] - 69s 462ms/step - loss: 0.0994 - mae: 0.1835 - acc: 0.7967 - val_loss: 0.0470 - val_mae: 0.1719 - val_acc: 0.8125\n",
      "Epoch 8/50\n",
      "150/150 [==============================] - 69s 461ms/step - loss: 0.0938 - mae: 0.1768 - acc: 0.8100 - val_loss: 0.0768 - val_mae: 0.1665 - val_acc: 0.8500\n",
      "Epoch 9/50\n",
      "150/150 [==============================] - 68s 453ms/step - loss: 0.0984 - mae: 0.1872 - acc: 0.7942 - val_loss: 0.2264 - val_mae: 0.1823 - val_acc: 0.8250\n",
      "Epoch 10/50\n",
      "150/150 [==============================] - 68s 451ms/step - loss: 0.0811 - mae: 0.1600 - acc: 0.8367 - val_loss: 0.0092 - val_mae: 0.1073 - val_acc: 0.9250\n",
      "Epoch 11/50\n",
      "150/150 [==============================] - 67s 449ms/step - loss: 0.0796 - mae: 0.1526 - acc: 0.8425 - val_loss: 0.0118 - val_mae: 0.1170 - val_acc: 0.8625\n",
      "Epoch 12/50\n",
      "150/150 [==============================] - 68s 451ms/step - loss: 0.0887 - mae: 0.1694 - acc: 0.8208 - val_loss: 0.0413 - val_mae: 0.1473 - val_acc: 0.8500\n",
      "Epoch 13/50\n",
      "150/150 [==============================] - 68s 451ms/step - loss: 0.0942 - mae: 0.1794 - acc: 0.8050 - val_loss: 0.0133 - val_mae: 0.1613 - val_acc: 0.8875\n",
      "Epoch 14/50\n",
      "150/150 [==============================] - 68s 451ms/step - loss: 0.0818 - mae: 0.1630 - acc: 0.8358 - val_loss: 0.0471 - val_mae: 0.1723 - val_acc: 0.8000\n",
      "Epoch 15/50\n",
      "150/150 [==============================] - 68s 451ms/step - loss: 0.0796 - mae: 0.1494 - acc: 0.8467 - val_loss: 0.0823 - val_mae: 0.1722 - val_acc: 0.7750\n",
      "Epoch 16/50\n",
      "150/150 [==============================] - 68s 450ms/step - loss: 0.0812 - mae: 0.1555 - acc: 0.8377 - val_loss: 0.0395 - val_mae: 0.1319 - val_acc: 0.8750\n",
      "Epoch 17/50\n",
      "150/150 [==============================] - 68s 455ms/step - loss: 0.0832 - mae: 0.1599 - acc: 0.8350 - val_loss: 0.0579 - val_mae: 0.0935 - val_acc: 0.9125\n",
      "Epoch 18/50\n",
      "150/150 [==============================] - 68s 456ms/step - loss: 0.0881 - mae: 0.1681 - acc: 0.8292 - val_loss: 0.0203 - val_mae: 0.1385 - val_acc: 0.8375\n",
      "Epoch 19/50\n",
      "150/150 [==============================] - 68s 455ms/step - loss: 0.0798 - mae: 0.1559 - acc: 0.8385 - val_loss: 0.0393 - val_mae: 0.1339 - val_acc: 0.8500\n",
      "Epoch 20/50\n",
      "150/150 [==============================] - 68s 457ms/step - loss: 0.0739 - mae: 0.1399 - acc: 0.8542 - val_loss: 0.1110 - val_mae: 0.1396 - val_acc: 0.8750\n",
      "Epoch 21/50\n",
      "150/150 [==============================] - 69s 458ms/step - loss: 0.0765 - mae: 0.1431 - acc: 0.8583 - val_loss: 0.1937 - val_mae: 0.1519 - val_acc: 0.8000\n",
      "Epoch 22/50\n",
      "150/150 [==============================] - 69s 459ms/step - loss: 0.0719 - mae: 0.1366 - acc: 0.8583 - val_loss: 0.0017 - val_mae: 0.1467 - val_acc: 0.8000\n",
      "Epoch 23/50\n",
      "150/150 [==============================] - 69s 457ms/step - loss: 0.0825 - mae: 0.1514 - acc: 0.8392 - val_loss: 0.0199 - val_mae: 0.1529 - val_acc: 0.8750\n",
      "Epoch 24/50\n",
      "150/150 [==============================] - 69s 457ms/step - loss: 0.0671 - mae: 0.1299 - acc: 0.8725 - val_loss: 0.0729 - val_mae: 0.1317 - val_acc: 0.8875\n",
      "Epoch 25/50\n",
      "150/150 [==============================] - 69s 457ms/step - loss: 0.0774 - mae: 0.1483 - acc: 0.8442 - val_loss: 0.2317 - val_mae: 0.1346 - val_acc: 0.8625\n",
      "Epoch 26/50\n",
      "150/150 [==============================] - 68s 456ms/step - loss: 0.0741 - mae: 0.1384 - acc: 0.8542 - val_loss: 0.0235 - val_mae: 0.1264 - val_acc: 0.8875\n",
      "Epoch 27/50\n",
      "150/150 [==============================] - 68s 454ms/step - loss: 0.0710 - mae: 0.1369 - acc: 0.8625 - val_loss: 0.1695 - val_mae: 0.1349 - val_acc: 0.8875\n",
      "Epoch 28/50\n",
      "150/150 [==============================] - 68s 453ms/step - loss: 0.0771 - mae: 0.1434 - acc: 0.8475 - val_loss: 0.1147 - val_mae: 0.1381 - val_acc: 0.8625\n",
      "Epoch 29/50\n",
      "150/150 [==============================] - 68s 455ms/step - loss: 0.0752 - mae: 0.1461 - acc: 0.8458 - val_loss: 0.1271 - val_mae: 0.1370 - val_acc: 0.8875\n",
      "Epoch 30/50\n",
      "150/150 [==============================] - 69s 460ms/step - loss: 0.0746 - mae: 0.1458 - acc: 0.8558 - val_loss: 0.0642 - val_mae: 0.1048 - val_acc: 0.9000\n",
      "Epoch 31/50\n",
      "150/150 [==============================] - 68s 454ms/step - loss: 0.0712 - mae: 0.1355 - acc: 0.8592 - val_loss: 0.0079 - val_mae: 0.1215 - val_acc: 0.8750\n",
      "Epoch 32/50\n",
      "150/150 [==============================] - 68s 454ms/step - loss: 0.0720 - mae: 0.1360 - acc: 0.8577 - val_loss: 0.1756 - val_mae: 0.1497 - val_acc: 0.8375\n",
      "Epoch 33/50\n",
      "150/150 [==============================] - 68s 455ms/step - loss: 0.0732 - mae: 0.1412 - acc: 0.8558 - val_loss: 0.0973 - val_mae: 0.1866 - val_acc: 0.7375\n",
      "Epoch 34/50\n",
      "150/150 [==============================] - 68s 453ms/step - loss: 0.0674 - mae: 0.1302 - acc: 0.8653 - val_loss: 0.1257 - val_mae: 0.1382 - val_acc: 0.8625\n",
      "Epoch 35/50\n",
      "150/150 [==============================] - 70s 469ms/step - loss: 0.0750 - mae: 0.1444 - acc: 0.8525 - val_loss: 0.1210 - val_mae: 0.1309 - val_acc: 0.8625\n",
      "Epoch 36/50\n",
      "150/150 [==============================] - 69s 461ms/step - loss: 0.0759 - mae: 0.1465 - acc: 0.8483 - val_loss: 0.0836 - val_mae: 0.1417 - val_acc: 0.8375\n",
      "Epoch 37/50\n",
      "150/150 [==============================] - 70s 463ms/step - loss: 0.0704 - mae: 0.1314 - acc: 0.8567 - val_loss: 0.2056 - val_mae: 0.1528 - val_acc: 0.8250\n",
      "Epoch 38/50\n",
      "150/150 [==============================] - 69s 458ms/step - loss: 0.0743 - mae: 0.1370 - acc: 0.8567 - val_loss: 0.0354 - val_mae: 0.1578 - val_acc: 0.7750\n",
      "Epoch 39/50\n",
      "150/150 [==============================] - 69s 461ms/step - loss: 0.0731 - mae: 0.1398 - acc: 0.8583 - val_loss: 0.0286 - val_mae: 0.1086 - val_acc: 0.9250\n",
      "Epoch 40/50\n",
      "150/150 [==============================] - 97s 645ms/step - loss: 0.0709 - mae: 0.1333 - acc: 0.8633 - val_loss: 0.0088 - val_mae: 0.1539 - val_acc: 0.8125\n",
      "Epoch 41/50\n",
      "150/150 [==============================] - 68s 455ms/step - loss: 0.0759 - mae: 0.1477 - acc: 0.8483 - val_loss: 0.0869 - val_mae: 0.1258 - val_acc: 0.8375\n",
      "Epoch 42/50\n",
      "150/150 [==============================] - 68s 455ms/step - loss: 0.0647 - mae: 0.1225 - acc: 0.8675 - val_loss: 0.0867 - val_mae: 0.1372 - val_acc: 0.8375\n",
      "Epoch 43/50\n",
      "150/150 [==============================] - 68s 453ms/step - loss: 0.0668 - mae: 0.1317 - acc: 0.8717 - val_loss: 0.0693 - val_mae: 0.1198 - val_acc: 0.8500\n",
      "Epoch 44/50\n",
      "150/150 [==============================] - 68s 451ms/step - loss: 0.0706 - mae: 0.1341 - acc: 0.8692 - val_loss: 0.1277 - val_mae: 0.1261 - val_acc: 0.8500\n",
      "Epoch 45/50\n",
      "150/150 [==============================] - 68s 454ms/step - loss: 0.0745 - mae: 0.1399 - acc: 0.8467 - val_loss: 0.1752 - val_mae: 0.1842 - val_acc: 0.7625\n",
      "Epoch 46/50\n",
      "150/150 [==============================] - 68s 455ms/step - loss: 0.0807 - mae: 0.1515 - acc: 0.8469 - val_loss: 0.0723 - val_mae: 0.1020 - val_acc: 0.9375\n",
      "Epoch 47/50\n",
      "150/150 [==============================] - 68s 455ms/step - loss: 0.0676 - mae: 0.1299 - acc: 0.8725 - val_loss: 0.0511 - val_mae: 0.1532 - val_acc: 0.8000\n",
      "Epoch 48/50\n",
      "150/150 [==============================] - 68s 454ms/step - loss: 0.0655 - mae: 0.1250 - acc: 0.8725 - val_loss: 0.0379 - val_mae: 0.1128 - val_acc: 0.9125\n",
      "Epoch 49/50\n",
      "150/150 [==============================] - 68s 456ms/step - loss: 0.0627 - mae: 0.1212 - acc: 0.8800 - val_loss: 0.1442 - val_mae: 0.1004 - val_acc: 0.8750\n"
     ]
    },
    {
     "name": "stdout",
     "output_type": "stream",
     "text": [
      "Epoch 50/50\n",
      "150/150 [==============================] - 68s 452ms/step - loss: 0.0640 - mae: 0.1190 - acc: 0.8767 - val_loss: 0.0607 - val_mae: 0.1523 - val_acc: 0.8125\n"
     ]
    }
   ],
   "source": [
    "results = model.fit_generator(train_gen, epochs = 50, steps_per_epoch=150, \n",
    "                             validation_data=test_gen, validation_steps=10,\n",
    "                             use_multiprocessing=True)"
   ]
  },
  {
   "cell_type": "code",
   "execution_count": 17,
   "metadata": {},
   "outputs": [],
   "source": [
    "score = model.evaluate_generator(test_gen, verbose=0)"
   ]
  },
  {
   "cell_type": "code",
   "execution_count": 18,
   "metadata": {},
   "outputs": [
    {
     "name": "stdout",
     "output_type": "stream",
     "text": [
      "[0.005610339809209108, 0.1178390309214592, 0.8787878751754761]\n"
     ]
    }
   ],
   "source": [
    "print(score)"
   ]
  },
  {
   "cell_type": "code",
   "execution_count": 19,
   "metadata": {},
   "outputs": [],
   "source": [
    "model.save('First_try.h5')"
   ]
  },
  {
   "cell_type": "code",
   "execution_count": null,
   "metadata": {},
   "outputs": [],
   "source": []
  }
 ],
 "metadata": {
  "kernelspec": {
   "display_name": "Python 3",
   "language": "python",
   "name": "python3"
  },
  "language_info": {
   "codemirror_mode": {
    "name": "ipython",
    "version": 3
   },
   "file_extension": ".py",
   "mimetype": "text/x-python",
   "name": "python",
   "nbconvert_exporter": "python",
   "pygments_lexer": "ipython3",
   "version": "3.7.5"
  }
 },
 "nbformat": 4,
 "nbformat_minor": 4
}
